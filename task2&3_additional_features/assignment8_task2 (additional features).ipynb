{
 "cells": [
  {
   "cell_type": "markdown",
   "id": "e06097f6",
   "metadata": {},
   "source": [
    "### Load data"
   ]
  },
  {
   "cell_type": "markdown",
   "id": "73d1dbc7",
   "metadata": {},
   "source": [
    "Use https://data.imf.org/?sk=9D6028D4-F14A-464C-A2F2-59B2CD424B85&sId=1390030341854 to download the data and load in the data. Here 2021M1 and export information is used"
   ]
  },
  {
   "cell_type": "code",
   "execution_count": null,
   "id": "b9332172",
   "metadata": {},
   "outputs": [],
   "source": [
    "import pandas as pd\n",
    "\n",
    "# We use Jan 2021 data\n",
    "trade_latest = pd.read_excel(\"export_2021m1.xlsx\", skiprows=1, index_col=0, nrows=7)\n",
    "trade_latest"
   ]
  },
  {
   "cell_type": "code",
   "execution_count": null,
   "id": "d4ab05bf",
   "metadata": {},
   "outputs": [],
   "source": [
    "trade_latest.index"
   ]
  },
  {
   "cell_type": "markdown",
   "id": "d78ddfa9",
   "metadata": {},
   "source": [
    "### Create network"
   ]
  },
  {
   "cell_type": "code",
   "execution_count": null,
   "id": "d450f8aa",
   "metadata": {},
   "outputs": [],
   "source": [
    "# We first convert the matrix data into pair data\n",
    "trade_latest = pd.melt(trade_latest.reset_index(), id_vars='index')\n",
    "trade_latest.columns = ['export_country', 'import_country', 'value']\n",
    "trade_latest.head()"
   ]
  },
  {
   "cell_type": "code",
   "execution_count": null,
   "id": "00c939d0",
   "metadata": {},
   "outputs": [],
   "source": [
    "trade_latest.dropna(inplace=True)\n",
    "trade_latest.head()"
   ]
  },
  {
   "cell_type": "code",
   "execution_count": null,
   "id": "d5c1a21e",
   "metadata": {},
   "outputs": [],
   "source": [
    "# Now we can use the pairs to create the graph:\n",
    "#   (i) first two columns representing the nodes; \n",
    "#   (ii) last column representing the weight\n",
    "# We also set the edge color based on 'export_country'\n",
    "\n",
    "import networkx as nx\n",
    "import matplotlib.pyplot as plt\n",
    "import numpy as np\n",
    "\n",
    "G = nx.DiGraph()  #create a directed graph instead\n",
    "\n",
    "for index, row in trade_latest.iterrows():\n",
    "\n",
    "    if row['export_country']=='United Kingdom':\n",
    "        e_color='red'\n",
    "    elif row['export_country']=='United States':\n",
    "        e_color='blue'\n",
    "    elif row['export_country']=='Canada':\n",
    "        e_color='orange'\n",
    "    else:\n",
    "        e_color='grey'\n",
    "    \n",
    "    G.add_edge(row['export_country'], row['import_country'], weight=row['value'], color=e_color)\n",
    "\n",
    "# remove isolated vertices (if any)    \n",
    "remove = [node for node,degree in G.degree() if degree ==0]\n",
    "G.remove_nodes_from(remove)\n",
    "\n",
    "# settings\n",
    "options = {\n",
    "     'node_color': 'grey',\n",
    "     'node_size': 1000,\n",
    "     'alpha': 1,\n",
    "     'connectionstyle': 'arc3, rad=0.1'}  #set the connection style\n",
    "\n",
    "colors = nx.get_edge_attributes(G,'color').values()\n",
    "\n",
    "weights = nx.get_edge_attributes(G,'weight').values()\n",
    "weights = np.divide(list(weights),5000)  #adjust weights so that line widths are appropriate\n",
    "\n",
    "# Reference on ConnectionStyle:\n",
    "# https://matplotlib.org/stable/api/_as_gen/matplotlib.patches.ConnectionStyle.html"
   ]
  },
  {
   "cell_type": "markdown",
   "id": "eb35209d",
   "metadata": {},
   "source": [
    "### Draw graph"
   ]
  },
  {
   "cell_type": "code",
   "execution_count": null,
   "id": "8ff0b32a",
   "metadata": {},
   "outputs": [],
   "source": [
    "# Spring layout\n",
    "\n",
    "plt.subplots(figsize=(5,5))\n",
    "\n",
    "pos=nx.spring_layout(G)\n",
    "\n",
    "nx.draw(G, pos=pos, width=weights, edge_color=colors, **options)\n",
    "nx.draw_networkx_labels(G,pos=pos, font_size=9)\n",
    "\n",
    "# Alternatively, this will also work\n",
    "#nx.draw_networkx(G, pos=pos, font_size=9, with_labels=True, width=weights, edge_color=colors, **options)\n",
    "\n",
    "plt.tight_layout()\n",
    "plt.axis('off');\n",
    "plt.show()\n",
    "\n",
    "# Reference:\n",
    "# https://networkx.org/documentation/stable/reference/drawing.html"
   ]
  },
  {
   "cell_type": "code",
   "execution_count": null,
   "id": "c9ef5f95",
   "metadata": {},
   "outputs": [],
   "source": [
    "# Random layout\n",
    "\n",
    "plt.subplots(figsize=(5,5))\n",
    "pos=nx.random_layout(G)\n",
    "nx.draw(G, pos=pos, width=weights, edge_color=colors, **options)\n",
    "nx.draw_networkx_labels(G, pos=pos, font_size=9)\n",
    "plt.tight_layout()\n",
    "plt.axis('off');\n",
    "plt.show()"
   ]
  },
  {
   "cell_type": "code",
   "execution_count": null,
   "id": "a1f7f0cb",
   "metadata": {},
   "outputs": [],
   "source": [
    "# Circular layout\n",
    "\n",
    "plt.subplots(figsize=(5,5))\n",
    "pos=nx.circular_layout(G)\n",
    "nx.draw(G, pos=pos, width=weights, edge_color=colors, **options)\n",
    "nx.draw_networkx_labels(G, pos=pos, font_size=9)\n",
    "plt.tight_layout()\n",
    "plt.axis('off');\n",
    "plt.show()"
   ]
  },
  {
   "cell_type": "code",
   "execution_count": null,
   "id": "d0dec9f0",
   "metadata": {},
   "outputs": [],
   "source": [
    "# Circular layout - with additional code to change node size based on different measures\n",
    "\n",
    "# Amend options to make allow customized node_size\n",
    "options = {\n",
    "     'node_color': 'grey',\n",
    "     'alpha': 1,\n",
    "     'connectionstyle': 'arc3, rad=0.1'}\n",
    "\n",
    "plt.subplots(figsize=(5,5))\n",
    "\n",
    "pos=nx.circular_layout(G)\n",
    "\n",
    "d = dict(G.degree(weight=\"weight\"))\n",
    "#d = dict(nx.eigenvector_centrality(G))  #if using eigenvector_centrality\n",
    "#d = dict(nx.betweenness_centrality(G))  #if using betweenness_centrality\n",
    "\n",
    "nx.draw(G, pos=pos, \n",
    "        nodelist=list(d.keys()), \n",
    "        node_size=[v*0.05 for v in d.values()],  #multiply by factor to adjust size\n",
    "        width=weights, edge_color=colors, **options)\n",
    "nx.draw_networkx_labels(G, pos=pos, font_size=9)\n",
    "\n",
    "# Alternatively, this will also work\n",
    "#nx.draw_networkx(G, pos=pos, \n",
    "#                 nodelist=list(d.keys()), node_size=[v*0.05 for v in d.values()], \n",
    "#                 width=weights, edge_color=colors, \n",
    "#                 font_size=9, with_labels=True, **options)\n",
    "\n",
    "plt.tight_layout()\n",
    "plt.axis('off')\n",
    "plt.show()\n",
    "\n",
    "# References:\n",
    "#   https://networkx.org/documentation/stable/reference/drawing.html\n",
    "#   https://towardsdatascience.com/customizing-networkx-graphs-f80b4e69bedf"
   ]
  },
  {
   "cell_type": "code",
   "execution_count": null,
   "id": "36f742fb",
   "metadata": {},
   "outputs": [],
   "source": [
    "# Save network graph for next part of assignment\n",
    "import pickle\n",
    "\n",
    "f = open(\"graph_pickle_latest\", \"wb\")  # open file for writing in binary mode\n",
    "pickle.dump(G, file = f)\n",
    "f.close()"
   ]
  },
  {
   "cell_type": "code",
   "execution_count": null,
   "id": "42e95400",
   "metadata": {},
   "outputs": [],
   "source": []
  }
 ],
 "metadata": {
  "kernelspec": {
   "display_name": "Python 3",
   "language": "python",
   "name": "python3"
  },
  "language_info": {
   "codemirror_mode": {
    "name": "ipython",
    "version": 3
   },
   "file_extension": ".py",
   "mimetype": "text/x-python",
   "name": "python",
   "nbconvert_exporter": "python",
   "pygments_lexer": "ipython3",
   "version": "3.8.8"
  }
 },
 "nbformat": 4,
 "nbformat_minor": 5
}
