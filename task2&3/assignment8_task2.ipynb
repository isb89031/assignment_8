{
 "cells": [
  {
   "cell_type": "markdown",
   "id": "e06097f6",
   "metadata": {},
   "source": [
    "### Load data"
   ]
  },
  {
   "cell_type": "markdown",
   "id": "48f2999f",
   "metadata": {},
   "source": [
    "Use https://data.imf.org/?sk=9D6028D4-F14A-464C-A2F2-59B2CD424B85&sId=1390030341854 to download the data and load in the data. Here 2021M1 and export information is used"
   ]
  },
  {
   "cell_type": "code",
   "execution_count": null,
   "id": "b9332172",
   "metadata": {},
   "outputs": [],
   "source": [
    "import pandas as pd\n",
    "\n",
    "# We use Jan 2021 data\n",
    "trade_latest = pd.read_excel(\"export_2021m1.xlsx\", skiprows=1, index_col=0, nrows=7)\n",
    "trade_latest"
   ]
  },
  {
   "cell_type": "code",
   "execution_count": null,
   "id": "d4ab05bf",
   "metadata": {},
   "outputs": [],
   "source": [
    "trade_latest.index"
   ]
  },
  {
   "cell_type": "markdown",
   "id": "d78ddfa9",
   "metadata": {},
   "source": [
    "### Create network"
   ]
  },
  {
   "cell_type": "code",
   "execution_count": null,
   "id": "d450f8aa",
   "metadata": {},
   "outputs": [],
   "source": [
    "# We first convert the matrix data into pair data\n",
    "trade_latest = pd.melt(trade_latest.reset_index(), id_vars='index')\n",
    "trade_latest.head()"
   ]
  },
  {
   "cell_type": "code",
   "execution_count": null,
   "id": "f7e25bb3",
   "metadata": {},
   "outputs": [],
   "source": [
    "trade_latest.columns = ['export_country', 'import_country', 'value']\n",
    "trade_latest.head()"
   ]
  },
  {
   "cell_type": "code",
   "execution_count": null,
   "id": "00c939d0",
   "metadata": {},
   "outputs": [],
   "source": [
    "trade_latest.dropna(inplace=True)\n",
    "trade_latest.head()"
   ]
  },
  {
   "cell_type": "code",
   "execution_count": null,
   "id": "d5c1a21e",
   "metadata": {},
   "outputs": [],
   "source": [
    "# Now we can use the pairs to create the graph, \n",
    "# with the first two columns representing the nodes,\n",
    "# and the last column representing the weight\n",
    "\n",
    "import networkx as nx\n",
    "import matplotlib.pyplot as plt\n",
    "\n",
    "G = nx.Graph()\n",
    "\n",
    "for index, row in trade_latest.iterrows():\n",
    "    G.add_edge(row['export_country'], row['import_country'], weight=row['value'])\n",
    "\n",
    "# remove isolated vertices (if any)    \n",
    "remove = [node for node,degree in G.degree() if degree ==0]\n",
    "G.remove_nodes_from(remove)\n",
    "\n",
    "#Setting size and colours\n",
    "options = {\n",
    "     'node_color': 'lightblue',\n",
    "     'edge_color': 'lightblue',\n",
    "     'node_size': 1,\n",
    "     'width': 1,\n",
    "     'alpha': 1.0}"
   ]
  },
  {
   "cell_type": "markdown",
   "id": "eb35209d",
   "metadata": {},
   "source": [
    "### Draw graph"
   ]
  },
  {
   "cell_type": "code",
   "execution_count": null,
   "id": "3af53b50",
   "metadata": {},
   "outputs": [],
   "source": [
    "# Spring layout\n",
    "\n",
    "plt.subplots(figsize=(5,5))\n",
    "pos=nx.spring_layout(G)\n",
    "nx.draw(G,pos=pos,font_size=9,**options)\n",
    "nx.draw_networkx_labels(G,pos=pos,font_size=9)\n",
    "plt.tight_layout()\n",
    "plt.axis('off');\n",
    "plt.show()"
   ]
  },
  {
   "cell_type": "code",
   "execution_count": null,
   "id": "c9ef5f95",
   "metadata": {},
   "outputs": [],
   "source": [
    "# Random layout\n",
    "\n",
    "plt.subplots(figsize=(5,5))\n",
    "pos=nx.random_layout(G)\n",
    "nx.draw(G,pos=pos,font_size=9,**options)\n",
    "nx.draw_networkx_labels(G,pos=pos,font_size=9)\n",
    "plt.tight_layout()\n",
    "plt.axis('off');\n",
    "plt.show()"
   ]
  },
  {
   "cell_type": "code",
   "execution_count": null,
   "id": "a1f7f0cb",
   "metadata": {},
   "outputs": [],
   "source": [
    "# Circular layout\n",
    "\n",
    "plt.subplots(figsize=(5,5))\n",
    "pos=nx.circular_layout(G)\n",
    "nx.draw(G,pos=pos,font_size=9,**options)\n",
    "nx.draw_networkx_labels(G,pos=pos,font_size=9)\n",
    "plt.tight_layout()\n",
    "plt.axis('off');\n",
    "plt.show()"
   ]
  },
  {
   "cell_type": "code",
   "execution_count": null,
   "id": "36f742fb",
   "metadata": {},
   "outputs": [],
   "source": [
    "# Save network graph for next part of assignment\n",
    "\n",
    "import pickle\n",
    "\n",
    "f = open(\"graph_pickle_latest\", \"wb\")  # open file for writing in binary mode\n",
    "pickle.dump(G, file = f)\n",
    "f.close()"
   ]
  },
  {
   "cell_type": "code",
   "execution_count": null,
   "id": "9fddc0e6",
   "metadata": {},
   "outputs": [],
   "source": [
    "# Try re-loading saved network graph and draw using different layout\n",
    "\n",
    "with open('graph_pickle_latest', 'rb') as f:\n",
    "    x = pickle.load(f)\n",
    "f.close()\n",
    "    \n",
    "plt.subplots(figsize=(5,5))\n",
    "pos=nx.kamada_kawai_layout(x)\n",
    "nx.draw(x,pos=pos,font_size=9,**options)\n",
    "nx.draw_networkx_labels(x,pos=pos,font_size=9)\n",
    "plt.tight_layout()\n",
    "plt.axis('off');\n",
    "plt.show()"
   ]
  },
  {
   "cell_type": "code",
   "execution_count": null,
   "id": "4843a1aa",
   "metadata": {},
   "outputs": [],
   "source": []
  }
 ],
 "metadata": {
  "kernelspec": {
   "display_name": "Python 3",
   "language": "python",
   "name": "python3"
  },
  "language_info": {
   "codemirror_mode": {
    "name": "ipython",
    "version": 3
   },
   "file_extension": ".py",
   "mimetype": "text/x-python",
   "name": "python",
   "nbconvert_exporter": "python",
   "pygments_lexer": "ipython3",
   "version": "3.8.8"
  }
 },
 "nbformat": 4,
 "nbformat_minor": 5
}
