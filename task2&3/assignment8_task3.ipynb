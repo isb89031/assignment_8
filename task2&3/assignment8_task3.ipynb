{
 "cells": [
  {
   "cell_type": "markdown",
   "id": "cdd82709",
   "metadata": {},
   "source": [
    "## Repeat with last year's data to compare with latest year\n",
    "\n",
    "### Load data for last year"
   ]
  },
  {
   "cell_type": "code",
   "execution_count": null,
   "id": "b9332172",
   "metadata": {},
   "outputs": [],
   "source": [
    "import pandas as pd\n",
    "\n",
    "# We use Jan 2020 data\n",
    "trade_lastyr = pd.read_excel(\"export_2020m1.xlsx\", skiprows=1, index_col=0, nrows=7)\n",
    "trade_lastyr"
   ]
  },
  {
   "cell_type": "markdown",
   "id": "d78ddfa9",
   "metadata": {},
   "source": [
    "### Create network"
   ]
  },
  {
   "cell_type": "code",
   "execution_count": null,
   "id": "d450f8aa",
   "metadata": {},
   "outputs": [],
   "source": [
    "# We first convert the matrix data into pair data\n",
    "trade_lastyr = pd.melt(trade_lastyr.reset_index(), id_vars='index')\n",
    "trade_lastyr.columns = ['export_country', 'import_country', 'value']\n",
    "trade_lastyr.head()"
   ]
  },
  {
   "cell_type": "code",
   "execution_count": null,
   "id": "00c939d0",
   "metadata": {},
   "outputs": [],
   "source": [
    "trade_lastyr.dropna(inplace=True)\n",
    "trade_lastyr.head()"
   ]
  },
  {
   "cell_type": "code",
   "execution_count": null,
   "id": "d5c1a21e",
   "metadata": {},
   "outputs": [],
   "source": [
    "# Now we can use the pairs to create the graph, \n",
    "# with the first two columns representing the nodes,\n",
    "# and the last column representing the weight\n",
    "\n",
    "import networkx as nx\n",
    "import matplotlib.pyplot as plt\n",
    "\n",
    "G_lastyear = nx.Graph()\n",
    "\n",
    "for index, row in trade_lastyr.iterrows():\n",
    "    G_lastyear.add_edge(row['export_country'], row['import_country'], weight=row['value'])\n",
    "\n",
    "# remove isolated vertices (if any)    \n",
    "remove = [node for node,degree in G_lastyear.degree() if degree ==0]\n",
    "G_lastyear.remove_nodes_from(remove)\n",
    "\n",
    "#Setting size and colours\n",
    "options = {\n",
    "     'node_color': 'lightblue',\n",
    "     'edge_color': 'lightblue',\n",
    "     'node_size': 1,\n",
    "     'width': 1,\n",
    "     'alpha': 1.0}"
   ]
  },
  {
   "cell_type": "markdown",
   "id": "084b95cd",
   "metadata": {},
   "source": [
    "### Load back latest year's network graph"
   ]
  },
  {
   "cell_type": "code",
   "execution_count": null,
   "id": "047ece0b",
   "metadata": {},
   "outputs": [],
   "source": [
    "#load back latest year's network graph\n",
    "import pickle\n",
    "\n",
    "f = open(\"graph_pickle_latest\", \"rb\")\n",
    "G_latest = pickle.load(f)\n",
    "f.close()"
   ]
  },
  {
   "cell_type": "markdown",
   "id": "226c85a7",
   "metadata": {},
   "source": [
    "### Draw graphs to compare output from last year with latest year using a 3x2 subplot containing all the network representations"
   ]
  },
  {
   "cell_type": "code",
   "execution_count": null,
   "id": "434e631e",
   "metadata": {},
   "outputs": [],
   "source": [
    "fig, ax = plt.subplots(3, 2, figsize = (10, 15))\n",
    "layouts = {\"spring\": nx.spring_layout, \"random\": nx.random_layout, \"circular\": nx.circular_layout}\n",
    "graphs = {\"latest\": G_latest, \"last year's\": G_lastyear}\n",
    "\n",
    "for i, (layout_name, layout) in enumerate(layouts.items()):  \n",
    "    for j, (graph_name, graph) in enumerate(graphs.items()):\n",
    "        pos = layout(graph)\n",
    "        nx.draw_networkx(graph, pos=pos, ax=ax[i][j], font_size=9,**options)\n",
    "        plt.tight_layout()\n",
    "        ax[i][j].set_axis_off()\n",
    "        ax[i][j].set_title(f\"{layout_name} layout for {graph_name} data\")"
   ]
  },
  {
   "cell_type": "code",
   "execution_count": null,
   "id": "7d2be0da",
   "metadata": {},
   "outputs": [],
   "source": []
  }
 ],
 "metadata": {
  "kernelspec": {
   "display_name": "Python 3",
   "language": "python",
   "name": "python3"
  },
  "language_info": {
   "codemirror_mode": {
    "name": "ipython",
    "version": 3
   },
   "file_extension": ".py",
   "mimetype": "text/x-python",
   "name": "python",
   "nbconvert_exporter": "python",
   "pygments_lexer": "ipython3",
   "version": "3.8.8"
  }
 },
 "nbformat": 4,
 "nbformat_minor": 5
}
