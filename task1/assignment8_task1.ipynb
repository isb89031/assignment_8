{
 "cells": [
  {
   "cell_type": "markdown",
   "id": "fb54b855",
   "metadata": {},
   "source": [
    "### Load libraries and data"
   ]
  },
  {
   "cell_type": "code",
   "execution_count": null,
   "id": "f380a50f",
   "metadata": {},
   "outputs": [],
   "source": [
    "import pandas as pd\n",
    "import matplotlib.pyplot as plt\n",
    "import seaborn as sns\n",
    "import numpy as np\n",
    "\n",
    "titanic = pd.read_csv(\"./data/titanic.csv\")  #note: your file path may be different"
   ]
  },
  {
   "cell_type": "code",
   "execution_count": null,
   "id": "d408e84f",
   "metadata": {},
   "outputs": [],
   "source": [
    "titanic.info()\n",
    "titanic.describe()"
   ]
  },
  {
   "cell_type": "code",
   "execution_count": null,
   "id": "7bf78ecd",
   "metadata": {},
   "outputs": [],
   "source": [
    "#compute family size\n",
    "titanic['family size'] = titanic['SibSp']+titanic['Parch'] + 1"
   ]
  },
  {
   "cell_type": "code",
   "execution_count": null,
   "id": "f7acace8",
   "metadata": {},
   "outputs": [],
   "source": [
    "#convert Survived and Pclass to categorical variables\n",
    "d_Survived={0:\"No\",1:\"Yes\"}\n",
    "d_Pclass={1:\"1st\",2:\"2nd\",3:\"3rd\"}\n",
    "titanic['Survived'] = titanic['Survived'].astype('category').apply(lambda x:d_Survived[x])\n",
    "titanic['Pclass'] = titanic['Pclass'].astype('category').apply(lambda x:d_Pclass[x])\n",
    "titanic.head()"
   ]
  },
  {
   "cell_type": "markdown",
   "id": "a8fe87f6",
   "metadata": {},
   "source": [
    "### 1. Generate a series of bar charts to describe the gender, ticket class and survival of the passengers onboard.\n"
   ]
  },
  {
   "cell_type": "code",
   "execution_count": null,
   "id": "a9c2c91c",
   "metadata": {},
   "outputs": [],
   "source": [
    "# Bar chart on gender\n",
    "titanic.groupby('Sex').size().plot.bar(title = 'Gender of the passengers onboard', \n",
    "                                       ylabel = \"number of passengers\", xlabel = \"gender\")\n",
    "plt.show()\n",
    "\n",
    "# Note we did not call fig, ax = plt.subplots() and then pass ax into pandas Dataframe/Series plot(). \n",
    "# We could use fig, ax = plt.subplots() and pass ax into Dataframe/Series plot(), but we do not have to."
   ]
  },
  {
   "cell_type": "code",
   "execution_count": null,
   "id": "b16eac65",
   "metadata": {},
   "outputs": [],
   "source": [
    "# Bar chart on gender (alternative using kind='bar'; other suitable options are 'barh', 'pie')\n",
    "titanic.groupby('Sex').size().plot(kind='bar',\n",
    "                                   title = 'Gender of the passengers onboard', \n",
    "                                   ylabel = \"number of passengers\", xlabel = \"gender\")\n",
    "plt.show()"
   ]
  },
  {
   "cell_type": "code",
   "execution_count": null,
   "id": "cd1cbc2b",
   "metadata": {},
   "outputs": [],
   "source": [
    "# Bar chart on gender (sort value by descending order)\n",
    "titanic.groupby('Sex').size().sort_values(ascending=False).plot(kind='bar', title = 'Gender of the passengers onboard', ylabel = \"number of passengers\", xlabel = \"gender\")\n",
    "#titanic['Sex'].value_counts().sort_values(ascending=False).plot(kind='bar', title = 'Gender of the passengers onboard', ylabel = \"number of passengers\", xlabel = \"gender\")\n",
    "plt.show()"
   ]
  },
  {
   "cell_type": "code",
   "execution_count": null,
   "id": "11e10141",
   "metadata": {},
   "outputs": [],
   "source": [
    "# Bar chart on gender (with data values shown) (method 1)\n",
    "\n",
    "fig, ax = plt.subplots()\n",
    "\n",
    "plot_data = titanic.groupby('Sex').size()\n",
    "\n",
    "ax.bar(x=plot_data.index, height=plot_data, \n",
    "       alpha=0.6, #alpha=0.6 makes bars slightly transparent\n",
    "       width = 0.5) #argument width=0.5 makes the bars thinner\n",
    "\n",
    "ax.set_title('Gender of the passengers onboard') \n",
    "ax.set_ylabel(\"number of passengers\")\n",
    "ax.set_xlabel(\"gender\")         \n",
    "\n",
    "for i in range(len(plot_data.index)):\n",
    "    #print(plot_data.index[i])\n",
    "    ax.text(x=plot_data.index[i], y=plot_data[i]-50, s=int(plot_data[i]), ha='center')\n",
    "\n",
    "plt.show()"
   ]
  },
  {
   "cell_type": "code",
   "execution_count": null,
   "id": "2844e4c7",
   "metadata": {},
   "outputs": [],
   "source": [
    "# Bar chart on gender (with data values shown) (method 2)\n",
    "# Reference -- https://medium.com/swlh/quick-guide-to-labelling-data-for-common-seaborn-plots-736e10bf14a9\n",
    "\n",
    "fig, ax = plt.subplots()\n",
    "\n",
    "plot_data = titanic.groupby('Sex').size()\n",
    "\n",
    "ax = plot_data.plot(kind='bar', \n",
    "                    title = 'Gender of the passengers onboard', \n",
    "                    ylabel = \"number of passengers\", xlabel = \"gender\",\n",
    "                    alpha = 0.6, width = 0.5)\n",
    "    \n",
    "for bar in ax.patches:\n",
    "    width = bar.get_width()\n",
    "    height = bar.get_height()\n",
    "    x, y = bar.get_xy() \n",
    "    ax.text(x = x+width/2, \n",
    "            y = y+height-30, \n",
    "            s = int(height), \n",
    "            ha='center', va='center')\n",
    "    \n",
    "plt.show()"
   ]
  },
  {
   "cell_type": "code",
   "execution_count": null,
   "id": "31cbfa87",
   "metadata": {},
   "outputs": [],
   "source": [
    "# Bar chart on ticket class\n",
    "titanic.groupby('Pclass').size().plot.bar(title = 'Ticket class of the passengers onboard', \n",
    "                                          xlabel = \"ticket class\", ylabel = \"number of passengers\")\n",
    "plt.show()"
   ]
  },
  {
   "cell_type": "code",
   "execution_count": null,
   "id": "2be90588",
   "metadata": {},
   "outputs": [],
   "source": [
    "# Bar chart on ticket class (sort by values in descending order)\n",
    "ax = titanic.groupby('Pclass').size().sort_values(ascending=False).plot(kind='bar',\n",
    "                                                                   title='Ticket class of the passengers onboard', \n",
    "                                                                   xlabel=\"ticket class\", \n",
    "                                                                   ylabel=\"number of passengers\")\n",
    "plt.show()"
   ]
  },
  {
   "cell_type": "code",
   "execution_count": null,
   "id": "49cafc43",
   "metadata": {},
   "outputs": [],
   "source": [
    "# Bar chart on ticket class (manually reorder categories)\n",
    "# We create a new column 'Pclass2'\n",
    "titanic['Pclass2'] = titanic['Pclass'].cat.reorder_categories(['3rd','2nd','1st'])\n",
    "ax = titanic.groupby('Pclass2').size().plot.bar(title='Ticket class of the passengers onboard', \n",
    "                                                xlabel=\"ticket class\", ylabel=\"number of passengers\")\n",
    "plt.show()"
   ]
  },
  {
   "cell_type": "code",
   "execution_count": null,
   "id": "6ea534bf",
   "metadata": {},
   "outputs": [],
   "source": [
    "# Bar chart on survival\n",
    "titanic.groupby('Survived').size().plot.bar(title = 'Survival of the passengers onboard', \n",
    "                                            xlabel = \"survived\", ylabel = \"number of passengers\")\n",
    "plt.show()"
   ]
  },
  {
   "cell_type": "markdown",
   "id": "bae2c1a9",
   "metadata": {},
   "source": [
    "### 2. Generate a histogram for the passengers’ age. Furthermore, describe the passengers’ age using the following two boxplots: age per ticket class and age based on survival."
   ]
  },
  {
   "cell_type": "code",
   "execution_count": null,
   "id": "8422788d",
   "metadata": {},
   "outputs": [],
   "source": [
    "# Histogram on age\n",
    "titanic['Age'].plot(kind = 'hist', title = \"Age of the passengers onboard\");"
   ]
  },
  {
   "cell_type": "code",
   "execution_count": null,
   "id": "240c4b4e",
   "metadata": {},
   "outputs": [],
   "source": [
    "# Histogram on age (alternative)\n",
    "titanic['Age'].plot.hist(title = \"Age of the passengers onboard\");"
   ]
  },
  {
   "cell_type": "code",
   "execution_count": null,
   "id": "3ed0561d",
   "metadata": {},
   "outputs": [],
   "source": [
    "# Boxplot on age (group by ticket class)\n",
    "\n",
    "fig, ax = plt.subplots(figsize = (8, 4))\n",
    "\n",
    "sns.boxplot(data = titanic, x = 'Pclass', y = 'Age', width = 0.3, \n",
    "            boxprops = dict(alpha=0.6)) #note: in seaborn, alpha (and other parameters) is set in a different way\n",
    "\n",
    "ax.set_xlabel(\"Ticket class\")\n",
    "ax.set_title(\"Age of the passengers onboard\")\n",
    "plt.show()"
   ]
  },
  {
   "cell_type": "code",
   "execution_count": null,
   "id": "02f0c1c4",
   "metadata": {},
   "outputs": [],
   "source": [
    "# Boxplot on age (group by survival)\n",
    "\n",
    "fig, ax = plt.subplots(figsize = (8, 4))\n",
    "\n",
    "sns.boxplot(data = titanic, x = 'Survived', y = 'Age', width = 0.3, \n",
    "            boxprops = dict(alpha=0.6)) # note in seaborn, alpha (and other parameters) is set in a different way\n",
    "\n",
    "ax.set_xlabel(\"Survived\")\n",
    "ax.set_title(\"Age of the passengers onboard\")\n",
    "plt.show()"
   ]
  },
  {
   "cell_type": "markdown",
   "id": "6ed4db89",
   "metadata": {},
   "source": [
    "### 3. Generate a histogram for the travel fare and a table showing the number of people who did not pay – you may want to check on Google why a handful of people was on board for free! "
   ]
  },
  {
   "cell_type": "code",
   "execution_count": null,
   "id": "8d2dbefd",
   "metadata": {},
   "outputs": [],
   "source": [
    "# Histogram on travel fare\n",
    "titanic['Fare'].plot(kind='hist', title=\"Travel fare of the passengers onboard\", xlabel='fare');"
   ]
  },
  {
   "cell_type": "code",
   "execution_count": null,
   "id": "fba45673",
   "metadata": {},
   "outputs": [],
   "source": [
    "titanic[['Fare']].apply(lambda x: x==0).groupby('Fare').size()"
   ]
  },
  {
   "cell_type": "markdown",
   "id": "14e00d15",
   "metadata": {},
   "source": [
    "### 4. A chart of your choice to describe the family size per ticket class\n"
   ]
  },
  {
   "cell_type": "code",
   "execution_count": null,
   "id": "a4d94c7d",
   "metadata": {},
   "outputs": [],
   "source": [
    "# Bar chart on ticket class and family size\n",
    "titanic.groupby(['Pclass', 'family size']).size().unstack().fillna(0).plot.bar(width=1.2, xlabel='ticket class', ylabel='frequency')\n",
    "plt.show()"
   ]
  },
  {
   "cell_type": "code",
   "execution_count": null,
   "id": "116ac412",
   "metadata": {},
   "outputs": [],
   "source": [
    "titanic.groupby(['Pclass', 'family size']).size()"
   ]
  },
  {
   "cell_type": "code",
   "execution_count": null,
   "id": "aa35d63f",
   "metadata": {},
   "outputs": [],
   "source": [
    "titanic.groupby(['Pclass', 'family size']).size().unstack()\n",
    "#titanic.groupby(['Pclass', 'family size']).size().unstack(level=-1) \n",
    "#titanic.groupby(['Pclass', 'family size']).size().unstack(level=1) \n",
    "\n",
    "#note: level refers level(s) of index to unstack, -1 is last level"
   ]
  },
  {
   "cell_type": "code",
   "execution_count": null,
   "id": "0a9872f1",
   "metadata": {},
   "outputs": [],
   "source": [
    "titanic.groupby(['Pclass', 'family size']).size().unstack().fillna(0)"
   ]
  },
  {
   "cell_type": "code",
   "execution_count": null,
   "id": "2c5d9ab4",
   "metadata": {},
   "outputs": [],
   "source": [
    "# Histogram to show the family size per ticket class\n",
    "\n",
    "import numpy as np\n",
    "import matplotlib.pyplot as plt\n",
    "\n",
    "np.warnings.filterwarnings('ignore', category=np.VisibleDeprecationWarning)\n",
    "\n",
    "#plots the histogram (using density)\n",
    "fig, ax = plt.subplots()\n",
    "ax.hist([titanic.loc[titanic.Pclass==class_idx, \"family size\"] for class_idx in ['1st','2nd','3rd']], \n",
    "        density=True,\n",
    "        label=['1st Class','2nd Class','3rd Class'])\n",
    "ax.set_ylabel(\"density\")\n",
    "ax.set_xlabel(\"family size\")\n",
    "plt.tight_layout()\n",
    "plt.legend(loc='upper right')\n",
    "plt.show()\n",
    "\n",
    "#plots the histogram (using frequency)\n",
    "fig, ax = plt.subplots()\n",
    "ax.hist([titanic.loc[titanic.Pclass==class_idx, \"family size\"] for class_idx in ['1st','2nd','3rd']], \n",
    "        density=False,\n",
    "        label=['1st Class','2nd Class','3rd Class'])\n",
    "ax.set_ylabel(\"frequency\")\n",
    "ax.set_xlabel(\"family size\")\n",
    "plt.tight_layout()\n",
    "plt.legend(loc='upper right')\n",
    "plt.show()"
   ]
  },
  {
   "cell_type": "code",
   "execution_count": null,
   "id": "d03ca77e",
   "metadata": {},
   "outputs": [],
   "source": [
    "# Boxplots to show the family size per ticket class\n",
    "\n",
    "#plots the boxplots\n",
    "\n",
    "fig, ax = plt.subplots()\n",
    "\n",
    "ax = sns.boxplot(data=titanic, x='Pclass', y='family size', width=0.3, \n",
    "            boxprops=dict(alpha=0.6)) #in seaborn, alpha (and other parameters) is set in different way\n",
    "\n",
    "#alternative - equivalent\n",
    "#ax = sns.boxplot(data=titanic, x='Pclass', y='family size', width=0.3, \n",
    "#            boxprops={'alpha':0.6}) #in seaborn, alpha (and other parameters) is set in different way\n",
    "\n",
    "ax.set_ylabel('family size')\n",
    "ax.set_xlabel('ticket class')\n",
    "\n",
    "plt.tight_layout()\n",
    "plt.show()"
   ]
  },
  {
   "cell_type": "code",
   "execution_count": null,
   "id": "a88ea9ac",
   "metadata": {},
   "outputs": [],
   "source": [
    "# Additional plot 1\n",
    "sns.catplot(x='Pclass', y='family size', data=titanic, kind='violin')\n",
    "plt.xlabel(\"ticket class\")\n",
    "plt.ylabel(\"family size\")\n",
    "plt.show()"
   ]
  },
  {
   "cell_type": "code",
   "execution_count": null,
   "id": "9e2d7960",
   "metadata": {},
   "outputs": [],
   "source": [
    "# Additional plot 2\n",
    "sns.catplot(x='Pclass', y='family size', hue='Survived', \n",
    "            data=titanic, kind='bar', ci=False, estimator=np.mean)  #default estimator is mean\n",
    "plt.xlabel(\"ticket class\")\n",
    "plt.ylabel(\"family size (mean)\")\n",
    "plt.show()"
   ]
  },
  {
   "cell_type": "code",
   "execution_count": null,
   "id": "0df3fdca",
   "metadata": {},
   "outputs": [],
   "source": [
    "# Additional plot 2 (with data values shown)\n",
    "# Reference -- https://pretagteam.com/question/seaborn-catplot-set-values-over-the-bars\n",
    "\n",
    "g = sns.catplot(x='Pclass', y='family size', hue='Survived', data=titanic, \n",
    "                kind='bar', ci=False, estimator=np.mean)  #default estimator is mean\n",
    "\n",
    "plt.xlabel(\"ticket class\")\n",
    "plt.ylabel(\"family size (mean)\")\n",
    "\n",
    "# extract the Matplotlib axes_subplot objects from the FacetGrid\n",
    "ax = g.facet_axis(0, 0)\n",
    "for bar in ax.patches:\n",
    "    width = bar.get_width()\n",
    "    height = bar.get_height()\n",
    "    x, y = bar.get_xy()    \n",
    "    ax.text(x = x+width/2,\n",
    "            y = y+height-0.1,\n",
    "            s = round(height,2),\n",
    "            size = 10, \n",
    "            ha = 'center')\n",
    "\n",
    "plt.show()"
   ]
  },
  {
   "cell_type": "markdown",
   "id": "406d11d5",
   "metadata": {},
   "source": [
    "### 5. A series of stacked bar charts to show the how survival differs for different gender and ticket class"
   ]
  },
  {
   "cell_type": "code",
   "execution_count": null,
   "id": "bb953ab6",
   "metadata": {},
   "outputs": [],
   "source": [
    "# Stacked bar chart on survival by gender\n",
    "survival = titanic.groupby(['Sex','Survived']).size().unstack()\n",
    "survival.plot(kind='bar', stacked=True, ylabel=\"number of passengers\", xlabel=\"gender\", \n",
    "              title = \"Survival by gender\");"
   ]
  },
  {
   "cell_type": "code",
   "execution_count": null,
   "id": "4836cf00",
   "metadata": {},
   "outputs": [],
   "source": [
    "# Stacked bar chart on survival by gender (with data values shown)\n",
    "\n",
    "survival = titanic.groupby(['Sex','Survived']).size().unstack()\n",
    "ax = survival.plot(kind='bar', stacked=True, ylabel=\"number of passengers\", xlabel=\"gender\", \n",
    "                   title = \"Survival by gender\")\n",
    "\n",
    "for bar in ax.patches:\n",
    "    width = bar.get_width()\n",
    "    height = bar.get_height()\n",
    "    x, y = bar.get_xy() \n",
    "    ax.text(x=x+width/2, \n",
    "            y=y+height-30, \n",
    "            s=int(height), \n",
    "            ha='center', va='center')"
   ]
  },
  {
   "cell_type": "code",
   "execution_count": null,
   "id": "d9a8ace6",
   "metadata": {},
   "outputs": [],
   "source": [
    "# Stacked bar chart on survival by ticket class\n",
    "survival = titanic.groupby(['Pclass','Survived']).size().unstack()\n",
    "survival.plot(kind='bar', stacked = True, ylabel = \"number of passengers\", xlabel = \"ticket class\", \n",
    "              title = \"Survival by ticket class\");"
   ]
  },
  {
   "cell_type": "markdown",
   "id": "d93e1fca",
   "metadata": {},
   "source": [
    "### 6. A violin chart describing how survival related to age and gender\n"
   ]
  },
  {
   "cell_type": "code",
   "execution_count": null,
   "id": "8aac45f8",
   "metadata": {},
   "outputs": [],
   "source": [
    "ax = sns.violinplot(data=titanic, x='Sex', y='Age', hue='Survived', width=0.3, split=True)\n",
    "ax.set_xlabel(\"gender\")\n",
    "plt.show()"
   ]
  },
  {
   "cell_type": "markdown",
   "id": "61c08399",
   "metadata": {},
   "source": [
    "### 7. A violin chart describing the survival rate related to age and ticket class\n"
   ]
  },
  {
   "cell_type": "code",
   "execution_count": null,
   "id": "1f76d3e4",
   "metadata": {},
   "outputs": [],
   "source": [
    "ax = sns.violinplot(data=titanic, x='Pclass', y='Age', hue='Survived', width=0.3, split=True)\n",
    "ax.set_xlabel(\"ticket class\")\n",
    "plt.show()"
   ]
  },
  {
   "cell_type": "code",
   "execution_count": null,
   "id": "31f425e8",
   "metadata": {},
   "outputs": [],
   "source": []
  }
 ],
 "metadata": {
  "kernelspec": {
   "display_name": "Python 3",
   "language": "python",
   "name": "python3"
  },
  "language_info": {
   "codemirror_mode": {
    "name": "ipython",
    "version": 3
   },
   "file_extension": ".py",
   "mimetype": "text/x-python",
   "name": "python",
   "nbconvert_exporter": "python",
   "pygments_lexer": "ipython3",
   "version": "3.8.8"
  }
 },
 "nbformat": 4,
 "nbformat_minor": 5
}
